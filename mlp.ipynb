{
 "cells": [
  {
   "cell_type": "code",
   "execution_count": 1,
   "id": "470ca36b",
   "metadata": {},
   "outputs": [],
   "source": [
    "import torch\n",
    "import torch.nn.functional as F\n",
    "import matplotlib.pyplot as plt\n",
    "import random\n",
    "\n",
    "%matplotlib inline"
   ]
  },
  {
   "cell_type": "markdown",
   "id": "d6918dd1",
   "metadata": {},
   "source": [
    "### Load Data\n"
   ]
  },
  {
   "cell_type": "code",
   "execution_count": 4,
   "id": "a4ef4f76",
   "metadata": {},
   "outputs": [
    {
     "name": "stdout",
     "output_type": "stream",
     "text": [
      "First eight words: ['emma', 'olivia', 'ava', 'isabella', 'sophia', 'charlotte', 'mia', 'amelia']\n",
      "Number of total words: 32033\n"
     ]
    }
   ],
   "source": [
    "# read in all the words\n",
    "words = open(\"names.txt\", \"r\").read().splitlines()\n",
    "print(\"First eight words:\", words[:8])\n",
    "print(f\"Number of total words: {len(words)}\")"
   ]
  },
  {
   "cell_type": "markdown",
   "id": "082c0e19",
   "metadata": {},
   "source": [
    "### Build Vocabulary\n"
   ]
  },
  {
   "cell_type": "code",
   "execution_count": 5,
   "id": "f1a8faf7",
   "metadata": {},
   "outputs": [
    {
     "name": "stdout",
     "output_type": "stream",
     "text": [
      "Char ID to Char Look Up Table: {0: '.', 1: 'a', 2: 'b', 3: 'c', 4: 'd', 5: 'e', 6: 'f', 7: 'g', 8: 'h', 9: 'i', 10: 'j', 11: 'k', 12: 'l', 13: 'm', 14: 'n', 15: 'o', 16: 'p', 17: 'q', 18: 'r', 19: 's', 20: 't', 21: 'u', 22: 'v', 23: 'w', 24: 'x', 25: 'y', 26: 'z'}\n",
      "Char to Char ID Look Up Table: {'.': 0, 'a': 1, 'b': 2, 'c': 3, 'd': 4, 'e': 5, 'f': 6, 'g': 7, 'h': 8, 'i': 9, 'j': 10, 'k': 11, 'l': 12, 'm': 13, 'n': 14, 'o': 15, 'p': 16, 'q': 17, 'r': 18, 's': 19, 't': 20, 'u': 21, 'v': 22, 'w': 23, 'x': 24, 'y': 25, 'z': 26}\n"
     ]
    }
   ],
   "source": [
    "# build the vocabulary of characters and mappings to/from integers\n",
    "vocab = sorted(list(set(\"\".join(words))))\n",
    "vocab.insert(0, \".\")\n",
    "vocab_to_idx_lookup = {s: i for i, s in enumerate(vocab)}\n",
    "idx_to_vocab_lookup = {i: s for s, i in vocab_to_idx_lookup.items()}\n",
    "VOCAB_SIZE = len(vocab)\n",
    "print(f\"Char ID to Char Look Up Table: {idx_to_vocab_lookup}\")\n",
    "print(f\"Char to Char ID Look Up Table: {vocab_to_idx_lookup}\")"
   ]
  },
  {
   "cell_type": "markdown",
   "id": "cc42cdb2",
   "metadata": {},
   "source": [
    "### Define Build Dataset Helper fn\n"
   ]
  },
  {
   "cell_type": "code",
   "execution_count": 11,
   "id": "db0e34a2",
   "metadata": {},
   "outputs": [],
   "source": [
    "def build_dataset(words, block_size: int):\n",
    "    X, Y = [], []\n",
    "    for w in words:\n",
    "        # print(w)\n",
    "        context = [0] * block_size\n",
    "        for ch in w + \".\":\n",
    "            # print(ch)\n",
    "            ix = vocab_to_idx_lookup[ch]\n",
    "            X.append(context)\n",
    "            Y.append(ix)\n",
    "            # print(''.join(idx_to_vocab_lookup[i] for i in context), '--->', idx_to_vocab_lookup[ix])\n",
    "            context = context[1:] + [ix]  # crop and append\n",
    "\n",
    "    X = torch.tensor(X)\n",
    "    Y = torch.tensor(Y)\n",
    "    print(X.shape, Y.shape)\n",
    "    return X, Y"
   ]
  },
  {
   "cell_type": "markdown",
   "id": "f7d4eeeb",
   "metadata": {},
   "source": [
    "## A.Step Through Neural Network Forward Calc\n",
    "\n",
    "### A1: Define Hyper-parameters, Build Dataset\n"
   ]
  },
  {
   "cell_type": "code",
   "execution_count": 12,
   "id": "544792d2",
   "metadata": {},
   "outputs": [
    {
     "name": "stdout",
     "output_type": "stream",
     "text": [
      "torch.Size([228146, 3]) torch.Size([228146])\n"
     ]
    }
   ],
   "source": [
    "BLOCK_SIZE = 3\n",
    "N_EMB_DIM = 10\n",
    "HIDDEN_LAYER_SIZE = 100\n",
    "\n",
    "random.seed(42)\n",
    "random.shuffle(words)\n",
    "X, Y = build_dataset(words, block_size=BLOCK_SIZE)\n",
    "N_OBS = len(X)\n"
   ]
  },
  {
   "cell_type": "markdown",
   "id": "eda4e05c",
   "metadata": {},
   "source": [
    "### A2: Build Embeddings Look Up Table\n"
   ]
  },
  {
   "cell_type": "code",
   "execution_count": 13,
   "id": "4d205ef8",
   "metadata": {},
   "outputs": [
    {
     "data": {
      "text/plain": [
       "torch.Size([228146, 3, 10])"
      ]
     },
     "execution_count": 13,
     "metadata": {},
     "output_type": "execute_result"
    }
   ],
   "source": [
    "C = torch.randn((VOCAB_SIZE, N_EMB_DIM))\n",
    "emb = C[X]\n",
    "emb.shape"
   ]
  },
  {
   "cell_type": "markdown",
   "id": "63be8ce3",
   "metadata": {},
   "source": [
    "### A3: Init Hidden Layer Params\n"
   ]
  },
  {
   "cell_type": "code",
   "execution_count": 15,
   "id": "a909011d",
   "metadata": {},
   "outputs": [
    {
     "name": "stdout",
     "output_type": "stream",
     "text": [
      "W1:\n",
      "tensor([[ 0.3494,  1.5772,  0.1810,  ..., -1.0410, -1.4707,  1.4730],\n",
      "        [-0.9566, -0.5675, -1.0856,  ..., -0.4627,  0.1218,  0.1975],\n",
      "        [ 1.3698,  0.5055, -0.0487,  ...,  1.8031, -0.3263, -0.1248],\n",
      "        ...,\n",
      "        [ 1.2445, -1.6096, -0.7791,  ..., -1.0290, -0.6817,  0.5691],\n",
      "        [ 0.6661,  1.5103,  1.0703,  ...,  2.6169, -0.5904, -1.4249],\n",
      "        [-1.5001, -1.4129,  0.7260,  ...,  0.8760,  0.7315, -0.9346]])\n",
      "Shape:\n",
      "torch.Size([30, 100])\n",
      "\n",
      "b1:\n",
      "tensor([ 1.2310, -0.5046, -1.4908, -0.8933, -1.7085, -0.0649,  1.1201, -0.6028,\n",
      "        -1.8755, -0.3014, -1.0861, -0.8184,  2.0332, -1.6157, -0.6922, -0.9235,\n",
      "        -0.0323, -0.5249, -0.9747, -1.8774,  0.0724, -0.8123, -0.9235, -1.2178,\n",
      "         0.1043,  0.3548,  1.4879,  2.0114,  0.5119, -0.1295, -0.3020, -0.6994,\n",
      "        -0.1444,  0.9183,  0.2746,  0.5137, -0.4459, -1.2979,  0.8191, -0.3068,\n",
      "        -1.5361, -2.0700, -2.3479,  1.2261,  0.5557,  0.7605,  0.8966,  0.0257,\n",
      "         0.2352,  1.0934, -0.0156, -0.1613, -0.3002, -0.2457, -0.7518,  0.4582,\n",
      "        -0.0619, -1.4520, -0.5195,  0.0729,  0.6899, -1.0745, -1.0053,  1.2448,\n",
      "         0.3131, -1.0623,  0.6919,  0.8661, -0.0077, -0.0996,  0.1477, -0.5798,\n",
      "         1.1504, -0.0315, -1.3051,  0.1042, -0.8739, -0.9889,  0.3831,  0.3732,\n",
      "         0.8120,  0.8017, -1.2554, -0.2288, -0.5284,  2.0405,  0.6810,  0.7822,\n",
      "        -0.3895, -0.7574,  0.0226,  0.7676,  0.8762,  0.6468, -0.6498,  1.3277,\n",
      "        -0.8766, -0.7261, -0.0137,  1.7153])\n",
      "Shape:\n",
      "torch.Size([100])\n"
     ]
    }
   ],
   "source": [
    "W1 = torch.randn((BLOCK_SIZE * N_EMB_DIM, HIDDEN_LAYER_SIZE))\n",
    "b1 = torch.randn(HIDDEN_LAYER_SIZE)\n",
    "print(f\"W1:\\n{W1}\\nShape:\\n{W1.shape}\\n\")\n",
    "print(f\"b1:\\n{b1}\\nShape:\\n{b1.shape}\")"
   ]
  },
  {
   "cell_type": "markdown",
   "id": "ce676943",
   "metadata": {},
   "source": [
    "### A4: Calc Hidden Layer Outputs\n"
   ]
  },
  {
   "cell_type": "code",
   "execution_count": 16,
   "id": "81e88c1c",
   "metadata": {},
   "outputs": [
    {
     "name": "stdout",
     "output_type": "stream",
     "text": [
      "Hidden Layer Outputs:\n",
      "tensor([[ 0.9999,  1.0000, -1.0000,  ..., -1.0000,  0.9999, -0.9764],\n",
      "        [ 0.9939,  0.9999, -1.0000,  ...,  1.0000,  0.9997, -0.9996],\n",
      "        [ 0.9935, -0.9882, -1.0000,  ..., -1.0000, -0.9981,  0.9999],\n",
      "        ...,\n",
      "        [ 0.9999, -0.4502, -0.9966,  ...,  0.9999,  0.8740,  0.9974],\n",
      "        [ 1.0000, -1.0000,  1.0000,  ...,  0.2447, -0.7778, -0.9888],\n",
      "        [-0.9995,  0.9944, -0.9999,  ..., -0.9996,  0.9618,  0.9995]])\n",
      "Shape:\n",
      "torch.Size([228146, 100])\n"
     ]
    }
   ],
   "source": [
    "h = torch.tanh(emb.view(-1, BLOCK_SIZE * N_EMB_DIM) @ W1 + b1)\n",
    "print(f\"Hidden Layer Outputs:\\n{h}\\nShape:\\n{h.shape}\")"
   ]
  },
  {
   "cell_type": "markdown",
   "id": "9dc94e4e",
   "metadata": {},
   "source": [
    "### A5: Init Output Layer Params, Calc Conditional PMFs of Next Character\n"
   ]
  },
  {
   "cell_type": "code",
   "execution_count": 17,
   "id": "d4773a32",
   "metadata": {},
   "outputs": [
    {
     "name": "stdout",
     "output_type": "stream",
     "text": [
      "W2:\n",
      "tensor([[-0.7634, -0.5003, -1.1230,  ...,  1.5821,  1.8654, -0.4528],\n",
      "        [ 1.4357,  1.4322, -0.8836,  ..., -0.3019,  0.3110, -1.5794],\n",
      "        [ 0.0525,  1.4069,  0.2308,  ...,  1.2044,  0.7844, -1.6449],\n",
      "        ...,\n",
      "        [-1.5921, -0.7209, -0.6205,  ..., -0.0089, -1.9234,  0.6996],\n",
      "        [-0.7075,  0.6972, -0.7930,  ...,  1.5005,  0.0862, -1.9020],\n",
      "        [-0.1768, -0.6761,  0.0529,  ..., -0.2910, -1.2700,  0.5148]])\n",
      "Shape:\n",
      "torch.Size([100, 27])\n",
      "\n",
      "b2:\n",
      "tensor([ 1.2310, -0.5046, -1.4908, -0.8933, -1.7085, -0.0649,  1.1201, -0.6028,\n",
      "        -1.8755, -0.3014, -1.0861, -0.8184,  2.0332, -1.6157, -0.6922, -0.9235,\n",
      "        -0.0323, -0.5249, -0.9747, -1.8774,  0.0724, -0.8123, -0.9235, -1.2178,\n",
      "         0.1043,  0.3548,  1.4879,  2.0114,  0.5119, -0.1295, -0.3020, -0.6994,\n",
      "        -0.1444,  0.9183,  0.2746,  0.5137, -0.4459, -1.2979,  0.8191, -0.3068,\n",
      "        -1.5361, -2.0700, -2.3479,  1.2261,  0.5557,  0.7605,  0.8966,  0.0257,\n",
      "         0.2352,  1.0934, -0.0156, -0.1613, -0.3002, -0.2457, -0.7518,  0.4582,\n",
      "        -0.0619, -1.4520, -0.5195,  0.0729,  0.6899, -1.0745, -1.0053,  1.2448,\n",
      "         0.3131, -1.0623,  0.6919,  0.8661, -0.0077, -0.0996,  0.1477, -0.5798,\n",
      "         1.1504, -0.0315, -1.3051,  0.1042, -0.8739, -0.9889,  0.3831,  0.3732,\n",
      "         0.8120,  0.8017, -1.2554, -0.2288, -0.5284,  2.0405,  0.6810,  0.7822,\n",
      "        -0.3895, -0.7574,  0.0226,  0.7676,  0.8762,  0.6468, -0.6498,  1.3277,\n",
      "        -0.8766, -0.7261, -0.0137,  1.7153])\n",
      "Shape:\n",
      "torch.Size([27])\n",
      "\n",
      "logits:\n",
      "tensor([[  6.8848,  -0.1055,   1.4147,  ...,  13.1379,   5.8483, -17.9954],\n",
      "        [  6.9359,   1.8527, -10.8441,  ...,   4.9314,  -6.5816, -12.7094],\n",
      "        [  7.7090,   4.1484,   4.7442,  ...,   4.2171, -19.2646,  -0.9563],\n",
      "        ...,\n",
      "        [ -8.9369,  -3.3842, -12.4820,  ...,  12.0213,   4.7410, -11.2439],\n",
      "        [-12.9595, -15.1066, -19.3256,  ...,   0.5853,  10.0220,   5.8311],\n",
      "        [  5.5533,   8.0276,   1.2056,  ...,  16.4378,  -4.9041,   6.3970]])\n",
      "Shape:\n",
      "torch.Size([228146, 27])\n",
      "\n",
      "probabilities:\n",
      "tensor([[1.7661e-06, 1.6262e-09, 7.4365e-09,  ..., 9.1768e-04, 6.2643e-07,\n",
      "         2.7649e-17],\n",
      "        [1.7473e-07, 1.0834e-09, 3.3160e-15,  ..., 2.3541e-08, 2.3540e-13,\n",
      "         5.1352e-16],\n",
      "        [1.0663e-01, 3.0305e-03, 5.4991e-03,  ..., 3.2462e-03, 2.0577e-13,\n",
      "         1.8390e-05],\n",
      "        ...,\n",
      "        [5.9245e-11, 1.5283e-08, 1.7102e-12,  ..., 7.4938e-02, 5.1631e-05,\n",
      "         5.8987e-12],\n",
      "        [2.1229e-11, 2.4801e-12, 3.6488e-14,  ..., 1.6194e-05, 2.0308e-01,\n",
      "         3.0730e-03],\n",
      "        [1.3458e-07, 1.5980e-06, 1.7411e-09,  ..., 7.1794e-03, 3.8673e-12,\n",
      "         3.1291e-07]])\n",
      "Shape:\n",
      "torch.Size([228146, 27])\n"
     ]
    }
   ],
   "source": [
    "W2 = torch.randn((HIDDEN_LAYER_SIZE, VOCAB_SIZE))\n",
    "b2 = torch.randn(VOCAB_SIZE)\n",
    "logits = h @ W2 + b2\n",
    "counts = logits.exp()\n",
    "prob = counts / counts.sum(1, keepdims=True)\n",
    "prob.shape\n",
    "print(f\"W2:\\n{W2}\\nShape:\\n{W2.shape}\\n\")\n",
    "print(f\"b2:\\n{b1}\\nShape:\\n{b2.shape}\\n\")\n",
    "print(f\"logits:\\n{logits}\\nShape:\\n{logits.shape}\\n\")\n",
    "print(f\"probabilities:\\n{prob}\\nShape:\\n{prob.shape}\")"
   ]
  },
  {
   "cell_type": "markdown",
   "id": "b94b9679",
   "metadata": {},
   "source": [
    "### A6: Calc Log Likelihood (Loss)\n"
   ]
  },
  {
   "cell_type": "code",
   "execution_count": 18,
   "id": "e2c2136f",
   "metadata": {},
   "outputs": [
    {
     "name": "stdout",
     "output_type": "stream",
     "text": [
      "Negative Log Likelihood (Loss Over Entire Dataset) = 19.343\n"
     ]
    }
   ],
   "source": [
    "loss = -prob[torch.arange(N_OBS), Y].log().mean().item()\n",
    "print(f\"Negative Log Likelihood (Loss Over Entire Dataset) = {loss:.3f}\")"
   ]
  },
  {
   "cell_type": "markdown",
   "id": "4ea4d60b",
   "metadata": {},
   "source": [
    "## B. Create Training Loop & Iteratively Train Neural Net\n"
   ]
  },
  {
   "cell_type": "markdown",
   "id": "f9618339",
   "metadata": {},
   "source": [
    "### B1. Define Helper Functions for Training\n"
   ]
  },
  {
   "cell_type": "code",
   "execution_count": 20,
   "id": "448b2daf",
   "metadata": {},
   "outputs": [],
   "source": [
    "def init_params(block_size: int, n_emb_dim: int, hidden_layer_size: int):\n",
    "    g = torch.Generator().manual_seed(2147483647)  # for reproducibility\n",
    "    C = torch.randn((VOCAB_SIZE, n_emb_dim), generator=g)\n",
    "    W1 = torch.randn((int(block_size * n_emb_dim), hidden_layer_size), generator=g)\n",
    "    b1 = torch.randn(hidden_layer_size, generator=g)\n",
    "    W2 = torch.randn((hidden_layer_size, VOCAB_SIZE), generator=g)\n",
    "    b2 = torch.randn(VOCAB_SIZE, generator=g)\n",
    "    return C, W1, b1, W2, b2\n",
    "\n",
    "\n",
    "def score_mlp(\n",
    "    X: torch.Tensor,\n",
    "    Y: torch.Tensor,\n",
    "    block_size: int,\n",
    "    n_emb_dim: int,\n",
    "    C: torch.Tensor,\n",
    "    W1: torch.Tensor,\n",
    "    b1: torch.Tensor,\n",
    "    W2: torch.Tensor,\n",
    "    b2: torch.Tensor,\n",
    ") -> float:\n",
    "    emb = C[X]  # (BATCH_SIZE, BLOCK_SIZE, N_EMB_DIM)\n",
    "    h = torch.tanh(\n",
    "        emb.view(-1, int(block_size * n_emb_dim)) @ W1 + b1\n",
    "    )  # (BATCH_SIZE, HIDDEN_LAYER_SIZE)\n",
    "    logits = h @ W2 + b2  # (BATCH_SIZE, VOCAB_SIZE)\n",
    "    loss = F.cross_entropy(logits, Y).item()\n",
    "    return loss\n",
    "\n",
    "\n",
    "def plot_train_loss_vs_step(\n",
    "    losses: torch.Tensor,\n",
    "    title: str = \"Training Iteration vs Loss\",\n",
    "    x_label: str = \"Training Iteration\",\n",
    "    y_label: str = \"Loss\",\n",
    "):\n",
    "    steps = torch.arange(len(losses))\n",
    "\n",
    "    fig, ax = plt.subplots()\n",
    "    ax.plot(steps, losses)\n",
    "    plt.title(title)\n",
    "    plt.ylabel(x_label)\n",
    "    plt.xlabel(y_label)\n",
    "    plt.show()\n",
    "    plt.close(fig)  # Close and delete the figure to free memory\n",
    "    del fig\n",
    "\n",
    "\n",
    "def plot_train_loss_vs_log_learning_rate(\n",
    "    losses: torch.Tensor,\n",
    "    learning_rates: torch.Tensor,\n",
    "    title: str = \"Log Training Learning Rate vs Loss\",\n",
    "    x_label: str = \"Log Training Learning Rate\",\n",
    "    y_label: str = \"Loss\",\n",
    "):\n",
    "    assert losses.shape[0] == learning_rates.shape[0]\n",
    "    assert len(losses.shape) == 1\n",
    "    assert len(learning_rates.shape) == 1\n",
    "\n",
    "    fig, ax = plt.subplots()\n",
    "    ax.plot(learning_rates.log10(), losses)\n",
    "    plt.title(title)\n",
    "    plt.ylabel(y_label)\n",
    "    plt.xlabel(x_label)\n",
    "    plt.show()\n",
    "    plt.close(fig)  # Close and delete the figure to free memory\n",
    "    del fig\n",
    "\n",
    "\n",
    "def train_mlp(\n",
    "    X_train: torch.Tensor,\n",
    "    Y_train: torch.Tensor,\n",
    "    batch_size: int,\n",
    "    block_size: int,\n",
    "    n_emb_dim: int,\n",
    "    C: torch.Tensor,\n",
    "    W1: torch.Tensor,\n",
    "    b1: torch.Tensor,\n",
    "    W2: torch.Tensor,\n",
    "    b2: torch.Tensor,\n",
    "    n_iter: int,\n",
    "    log_learning_rate_start: float,\n",
    "    log_learning_rate_end: float,\n",
    ") -> tuple[torch.tensor, torch.tensor, torch.tensor]:\n",
    "    parameters = [C, W1, b1, W2, b2]\n",
    "\n",
    "    for p in parameters:\n",
    "        p.requires_grad = True\n",
    "\n",
    "    print(f\"Num Params: {sum(p.nelement() for p in parameters)}\")\n",
    "\n",
    "    learning_rates = 10 ** torch.linspace(\n",
    "        log_learning_rate_start, log_learning_rate_end, n_iter\n",
    "    )\n",
    "\n",
    "    losses = torch.zeros(n_iter)\n",
    "\n",
    "    for i in range(n_iter):\n",
    "        # minibatch construct\n",
    "        ix = torch.randint(0, X_train.shape[0], (batch_size,))\n",
    "\n",
    "        # forward pass\n",
    "        emb = C[X_train[ix]]  # (BATCH_SIZE, BLOCK_SIZE, N_EMB_DIM)\n",
    "        h = torch.tanh(\n",
    "            emb.view(-1, int(block_size * n_emb_dim)) @ W1 + b1\n",
    "        )  # (BATCH_SIZE, HIDDEN_LAYER_SIZE)\n",
    "        logits = h @ W2 + b2  # (BATCH_SIZE, VOCAB_SIZE)\n",
    "        loss = F.cross_entropy(logits, Y_train[ix])\n",
    "        # print(loss.item())\n",
    "\n",
    "        # backward pass\n",
    "        for p in parameters:\n",
    "            p.grad = None\n",
    "        loss.backward()\n",
    "\n",
    "        # update\n",
    "        lr_i = learning_rates[i]\n",
    "        for p in parameters:\n",
    "            p.data += -lr_i * p.grad\n",
    "\n",
    "        # track stats\n",
    "        losses[i] = loss.item()\n",
    "\n",
    "    in_sample_loss = score_mlp(\n",
    "        X_train,\n",
    "        Y_train,\n",
    "        block_size=block_size,\n",
    "        n_emb_dim=n_emb_dim,\n",
    "        C=C,\n",
    "        W1=W1,\n",
    "        b1=b1,\n",
    "        W2=W2,\n",
    "        b2=b2,\n",
    "    )\n",
    "    print(f\"Training Set (In Sample) Loss: {in_sample_loss:.3f}\")\n",
    "\n",
    "    return losses, logits, learning_rates\n"
   ]
  },
  {
   "cell_type": "markdown",
   "id": "eb1519fa",
   "metadata": {},
   "source": [
    "### B2. Define New Hyper-parameters For Training, Split Data\n"
   ]
  },
  {
   "cell_type": "code",
   "execution_count": 21,
   "id": "f02339b2",
   "metadata": {},
   "outputs": [
    {
     "name": "stdout",
     "output_type": "stream",
     "text": [
      "torch.Size([182625, 3]) torch.Size([182625])\n",
      "torch.Size([22655, 3]) torch.Size([22655])\n",
      "torch.Size([22866, 3]) torch.Size([22866])\n"
     ]
    }
   ],
   "source": [
    "# Set Hyper Params\n",
    "BLOCK_SIZE = 3\n",
    "N_EMB_DIM = 10\n",
    "HIDDEN_LAYER_SIZE = 100\n",
    "BATCH_SIZE = 256\n",
    "N_ITER = int(2e5)\n",
    "N_WARM_UP_ITER = int(N_ITER // 4)\n",
    "\n",
    "# split data\n",
    "n1 = int(0.8 * len(words))\n",
    "n2 = int(0.9 * len(words))\n",
    "Xtr, Ytr = build_dataset(words[:n1], block_size=BLOCK_SIZE)\n",
    "Xdev, Ydev = build_dataset(words[n1:n2], block_size=BLOCK_SIZE)\n",
    "Xte, Yte = build_dataset(words[n2:], block_size=BLOCK_SIZE)\n"
   ]
  },
  {
   "cell_type": "markdown",
   "id": "8b3153fc",
   "metadata": {},
   "source": [
    "### B3. Init Hidden Layer and Output Layer Parameters\n"
   ]
  },
  {
   "cell_type": "code",
   "execution_count": 22,
   "id": "d1a22e21",
   "metadata": {},
   "outputs": [],
   "source": [
    "C, W1, b1, W2, b2 = init_params(\n",
    "    block_size=BLOCK_SIZE, n_emb_dim=N_EMB_DIM, hidden_layer_size=HIDDEN_LAYER_SIZE\n",
    ")"
   ]
  },
  {
   "cell_type": "markdown",
   "id": "945b4cfd",
   "metadata": {},
   "source": [
    "### B4. Warm Up\n",
    "\n",
    "- Forward Calc Loss -> Backprop to Calc Gradient -> Update Params\n",
    "- Iterate through learning rates getting exponentially larger until the optimizer diverges to find ideal starting learning rate\n"
   ]
  },
  {
   "cell_type": "code",
   "execution_count": 14,
   "id": "5f84fbd6",
   "metadata": {},
   "outputs": [
    {
     "name": "stdout",
     "output_type": "stream",
     "text": [
      "Num Params: 6097\n",
      "Training Set (In Sample) Loss: 46.537\n"
     ]
    },
    {
     "data": {
      "image/png": "[encoded data removed]",
      "text/plain": [
       "<Figure size 640x480 with 1 Axes>"
      ]
     },
     "metadata": {},
     "output_type": "display_data"
    },
    {
     "data": {
      "image/png": "[encoded data removed]",
      "text/plain": [
       "<Figure size 640x480 with 1 Axes>"
      ]
     },
     "metadata": {},
     "output_type": "display_data"
    }
   ],
   "source": [
    "warm_up_losses, warm_up_logits, warm_up_learning_rates = train_mlp(\n",
    "    Xtr,\n",
    "    Ytr,\n",
    "    batch_size=BATCH_SIZE,\n",
    "    block_size=BLOCK_SIZE,\n",
    "    n_emb_dim=N_EMB_DIM,\n",
    "    C=C,\n",
    "    W1=W1,\n",
    "    W2=W2,\n",
    "    b1=b1,\n",
    "    b2=b2,\n",
    "    n_iter=N_WARM_UP_ITER,\n",
    "    log_learning_rate_start=-4.0,\n",
    "    log_learning_rate_end=1.0,\n",
    ")\n",
    "\n",
    "plot_train_loss_vs_step(warm_up_losses)\n",
    "plot_train_loss_vs_log_learning_rate(warm_up_losses, warm_up_learning_rates)\n"
   ]
  },
  {
   "cell_type": "code",
   "execution_count": 15,
   "id": "1711f122",
   "metadata": {},
   "outputs": [
    {
     "name": "stdout",
     "output_type": "stream",
     "text": [
      "Num Params: 6097\n",
      "Training Set (In Sample) Loss: 2.102\n"
     ]
    },
    {
     "data": {
      "image/png": "[encoded data removed]",
      "text/plain": [
       "<Figure size 640x480 with 1 Axes>"
      ]
     },
     "metadata": {},
     "output_type": "display_data"
    }
   ],
   "source": [
    "C, W1, b1, W2, b2 = init_params(\n",
    "    block_size=BLOCK_SIZE, n_emb_dim=N_EMB_DIM, hidden_layer_size=HIDDEN_LAYER_SIZE\n",
    ")  # reinit\n",
    "\n",
    "train_losses, train_logits, train_learning_rates = train_mlp(\n",
    "    Xtr,\n",
    "    Ytr,\n",
    "    batch_size=BATCH_SIZE,\n",
    "    block_size=BLOCK_SIZE,\n",
    "    n_emb_dim=N_EMB_DIM,\n",
    "    C=C,\n",
    "    W1=W1,\n",
    "    W2=W2,\n",
    "    b1=b1,\n",
    "    b2=b2,\n",
    "    n_iter=N_ITER,\n",
    "    log_learning_rate_start=0.0,\n",
    "    log_learning_rate_end=-4.0,\n",
    ")\n",
    "\n",
    "plot_train_loss_vs_step(train_losses)\n"
   ]
  },
  {
   "cell_type": "markdown",
   "id": "c59e192b",
   "metadata": {},
   "source": [
    "## Can we beat 2.1701 Dev Loss?\n"
   ]
  },
  {
   "cell_type": "code",
   "execution_count": 16,
   "id": "a1e66019",
   "metadata": {},
   "outputs": [
    {
     "name": "stdout",
     "output_type": "stream",
     "text": [
      "Test Set (Out of Sample) Loss: 2.141\n"
     ]
    }
   ],
   "source": [
    "out_of_sample_loss = score_mlp(\n",
    "    Xdev,\n",
    "    Ydev,\n",
    "    block_size=BLOCK_SIZE,\n",
    "    n_emb_dim=N_EMB_DIM,\n",
    "    C=C,\n",
    "    W1=W1,\n",
    "    b1=b1,\n",
    "    W2=W2,\n",
    "    b2=b2,\n",
    ")\n",
    "\n",
    "print(f\"Test Set (Out of Sample) Loss: {out_of_sample_loss:.3f}\")\n"
   ]
  },
  {
   "cell_type": "markdown",
   "id": "943ac271",
   "metadata": {},
   "source": [
    "### Visualize Embeddings\n"
   ]
  },
  {
   "cell_type": "code",
   "execution_count": 17,
   "id": "e5787964",
   "metadata": {},
   "outputs": [
    {
     "data": {
      "image/png": "[encoded data removed]",
      "text/plain": [
       "<Figure size 800x800 with 1 Axes>"
      ]
     },
     "metadata": {},
     "output_type": "display_data"
    }
   ],
   "source": [
    "# visualize dimensions 0 and 1 of the embedding matrix C for all characters\n",
    "plt.figure(figsize=(8, 8))\n",
    "plt.scatter(C[:, 0].data, C[:, 1].data, s=200)\n",
    "for i in range(C.shape[0]):\n",
    "    plt.text(\n",
    "        C[i, 0].item(),\n",
    "        C[i, 1].item(),\n",
    "        idx_to_vocab_lookup[i],\n",
    "        ha=\"center\",\n",
    "        va=\"center\",\n",
    "        color=\"white\",\n",
    "    )\n",
    "plt.grid(\"minor\")\n"
   ]
  },
  {
   "cell_type": "code",
   "execution_count": 18,
   "id": "bee88b21",
   "metadata": {},
   "outputs": [],
   "source": [
    "# training split, dev/validation split, test split\n",
    "# 80%, 10%, 10%\n"
   ]
  },
  {
   "cell_type": "code",
   "execution_count": 19,
   "id": "91df5662",
   "metadata": {},
   "outputs": [
    {
     "data": {
      "text/plain": [
       "torch.Size([1, 3, 10])"
      ]
     },
     "execution_count": 19,
     "metadata": {},
     "output_type": "execute_result"
    }
   ],
   "source": [
    "context = [0] * BLOCK_SIZE\n",
    "C[torch.tensor([context])].shape\n"
   ]
  },
  {
   "cell_type": "code",
   "execution_count": 20,
   "id": "e95ab337",
   "metadata": {},
   "outputs": [
    {
     "name": "stdout",
     "output_type": "stream",
     "text": [
      "carmaizabelle.\n",
      "khi.\n",
      "milia.\n",
      "atleenaasha.\n",
      "jazhuel.\n",
      "deliah.\n",
      "jareen.\n",
      "nellara.\n",
      "chaiir.\n",
      "kaleigh.\n",
      "ham.\n",
      "join.\n",
      "quinn.\n",
      "sulisea.\n",
      "jadia.\n",
      "wazelo.\n",
      "dearyni.\n",
      "jace.\n",
      "pirudi.\n",
      "edde.\n"
     ]
    }
   ],
   "source": [
    "# sample from the model\n",
    "g = torch.Generator().manual_seed(2147483647 + 10)\n",
    "\n",
    "for _ in range(20):\n",
    "    out = []\n",
    "    context = [0] * BLOCK_SIZE  # initialize with all ...\n",
    "    while True:\n",
    "        emb = C[torch.tensor([context])]  # (1,block_size,d)\n",
    "        h = torch.tanh(emb.view(1, -1) @ W1 + b1)\n",
    "        logits = h @ W2 + b2\n",
    "        probs = F.softmax(logits, dim=1)\n",
    "        ix = torch.multinomial(probs, num_samples=1, generator=g).item()\n",
    "        context = context[1:] + [ix]\n",
    "        out.append(ix)\n",
    "        if ix == 0:\n",
    "            break\n",
    "\n",
    "    print(\"\".join(idx_to_vocab_lookup[i] for i in out))\n"
   ]
  }
 ],
 "metadata": {
  "kernelspec": {
   "display_name": ".venv",
   "language": "python",
   "name": "python3"
  },
  "language_info": {
   "codemirror_mode": {
    "name": "ipython",
    "version": 3
   },
   "file_extension": ".py",
   "mimetype": "text/x-python",
   "name": "python",
   "nbconvert_exporter": "python",
   "pygments_lexer": "ipython3",
   "version": "3.11.11"
  }
 },
 "nbformat": 4,
 "nbformat_minor": 5
}
