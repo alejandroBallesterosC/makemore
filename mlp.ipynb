{
 "cells": [
  {
   "cell_type": "code",
   "execution_count": null,
   "id": "470ca36b",
   "metadata": {},
   "outputs": [],
   "source": [
    "import torch\n",
    "import torch.nn.functional as F\n",
    "import matplotlib.pyplot as plt  # for making figures\n",
    "\n",
    "%matplotlib inline"
   ]
  },
  {
   "cell_type": "markdown",
   "id": "d6918dd1",
   "metadata": {},
   "source": [
    "### Load Data\n"
   ]
  },
  {
   "cell_type": "code",
   "execution_count": 2,
   "id": "a4ef4f76",
   "metadata": {},
   "outputs": [
    {
     "name": "stdout",
     "output_type": "stream",
     "text": [
      "first eight words: ['emma', 'olivia', 'ava', 'isabella', 'sophia', 'charlotte', 'mia', 'amelia'] \n",
      "number of total words: 32033\n"
     ]
    }
   ],
   "source": [
    "# read in all the words\n",
    "words = open(\"names.txt\", \"r\").read().splitlines()\n",
    "print(\"first eight words:\", words[:8], \"\\nnumber of total words:\", len(words))\n"
   ]
  },
  {
   "cell_type": "markdown",
   "id": "082c0e19",
   "metadata": {},
   "source": [
    "### Build Vocabulary\n"
   ]
  },
  {
   "cell_type": "code",
   "execution_count": 3,
   "id": "f1a8faf7",
   "metadata": {},
   "outputs": [
    {
     "name": "stdout",
     "output_type": "stream",
     "text": [
      "{0: '.', 1: 'a', 2: 'b', 3: 'c', 4: 'd', 5: 'e', 6: 'f', 7: 'g', 8: 'h', 9: 'i', 10: 'j', 11: 'k', 12: 'l', 13: 'm', 14: 'n', 15: 'o', 16: 'p', 17: 'q', 18: 'r', 19: 's', 20: 't', 21: 'u', 22: 'v', 23: 'w', 24: 'x', 25: 'y', 26: 'z'}\n"
     ]
    }
   ],
   "source": [
    "# build the vocabulary of characters and mappings to/from integers\n",
    "vocab = sorted(list(set(\"\".join(words))))\n",
    "vocab.insert(0, \".\")\n",
    "vocab_idx_lookup = {s: i for i, s in enumerate(vocab)}\n",
    "idx_vocab_lookup = {i: s for s, i in vocab_idx_lookup.items()}\n",
    "print(idx_vocab_lookup)"
   ]
  },
  {
   "cell_type": "code",
   "execution_count": 4,
   "id": "1f32df3e",
   "metadata": {},
   "outputs": [],
   "source": [
    "BLOCK_SIZE = 3\n",
    "N_EMB_DIM = 2\n",
    "HIDDEN_LAYER_SIZE = 100\n",
    "VOCAB_SIZE = len(vocab)\n"
   ]
  },
  {
   "cell_type": "markdown",
   "id": "cc42cdb2",
   "metadata": {},
   "source": [
    "### Build Dataset, Splits\n"
   ]
  },
  {
   "cell_type": "code",
   "execution_count": 5,
   "id": "544792d2",
   "metadata": {},
   "outputs": [
    {
     "name": "stdout",
     "output_type": "stream",
     "text": [
      "torch.Size([228146, 3]) torch.Size([228146])\n",
      "torch.Size([182625, 3]) torch.Size([182625])\n",
      "torch.Size([22655, 3]) torch.Size([22655])\n",
      "torch.Size([22866, 3]) torch.Size([22866])\n"
     ]
    }
   ],
   "source": [
    "def build_dataset(words):\n",
    "    X, Y = [], []\n",
    "    for w in words:\n",
    "        # print(w)\n",
    "        context = [0] * BLOCK_SIZE\n",
    "        for ch in w + \".\":\n",
    "            ix = vocab_idx_lookup[ch]\n",
    "            X.append(context)\n",
    "            Y.append(ix)\n",
    "            # print(''.join(itos[i] for i in context), '--->', itos[ix])\n",
    "            context = context[1:] + [ix]  # crop and append\n",
    "\n",
    "    X = torch.tensor(X)\n",
    "    Y = torch.tensor(Y)\n",
    "    print(X.shape, Y.shape)\n",
    "    return X, Y\n",
    "\n",
    "\n",
    "import random\n",
    "\n",
    "random.seed(42)\n",
    "random.shuffle(words)\n",
    "n1 = int(0.8 * len(words))\n",
    "n2 = int(0.9 * len(words))\n",
    "\n",
    "X, Y = build_dataset(words)\n",
    "Xtr, Ytr = build_dataset(words[:n1])\n",
    "Xdev, Ydev = build_dataset(words[n1:n2])\n",
    "Xte, Yte = build_dataset(words[n2:])\n",
    "N_OBS = len(X)\n"
   ]
  },
  {
   "cell_type": "markdown",
   "id": "eda4e05c",
   "metadata": {},
   "source": [
    "### Build Embeddings Look Up Table\n"
   ]
  },
  {
   "cell_type": "code",
   "execution_count": 6,
   "id": "4d205ef8",
   "metadata": {},
   "outputs": [
    {
     "data": {
      "text/plain": [
       "torch.Size([228146, 3, 2])"
      ]
     },
     "execution_count": 6,
     "metadata": {},
     "output_type": "execute_result"
    }
   ],
   "source": [
    "C = torch.randn((VOCAB_SIZE, N_EMB_DIM))\n",
    "emb = C[X]\n",
    "emb.shape\n"
   ]
  },
  {
   "cell_type": "code",
   "execution_count": null,
   "id": "a909011d",
   "metadata": {},
   "outputs": [],
   "source": [
    "W1 = torch.randn((BLOCK_SIZE * N_EMB_DIM, HIDDEN_LAYER_SIZE))\n",
    "b1 = torch.randn(HIDDEN_LAYER_SIZE)\n"
   ]
  },
  {
   "cell_type": "code",
   "execution_count": null,
   "id": "81e88c1c",
   "metadata": {},
   "outputs": [
    {
     "data": {
      "text/plain": [
       "tensor([[-0.9988, -0.6376, -0.3525,  ...,  0.3158, -0.9970, -0.9482],\n",
       "        [-0.9959,  0.2250, -0.6263,  ..., -0.9864, -0.9566, -0.8850],\n",
       "        [-0.9995, -0.7142,  0.9704,  ...,  0.9069, -0.9988, -0.9585],\n",
       "        ...,\n",
       "        [-0.9931,  0.7557,  0.9079,  ...,  0.5335, -0.9183, -0.5513],\n",
       "        [-0.8422,  0.9956, -0.9737,  ..., -0.9998, -0.5601, -0.9180],\n",
       "        [-0.9554,  0.9738,  0.9688,  ..., -0.5873, -0.5525, -0.9361]])"
      ]
     },
     "execution_count": 8,
     "metadata": {},
     "output_type": "execute_result"
    }
   ],
   "source": [
    "h = torch.tanh(emb.view(-1, BLOCK_SIZE * N_EMB_DIM) @ W1 + b1)\n",
    "h"
   ]
  },
  {
   "cell_type": "code",
   "execution_count": 9,
   "id": "fc90c29b",
   "metadata": {},
   "outputs": [
    {
     "data": {
      "text/plain": [
       "torch.Size([228146, 100])"
      ]
     },
     "execution_count": 9,
     "metadata": {},
     "output_type": "execute_result"
    }
   ],
   "source": [
    "h.shape\n"
   ]
  },
  {
   "cell_type": "code",
   "execution_count": 10,
   "id": "d4773a32",
   "metadata": {},
   "outputs": [],
   "source": [
    "W2 = torch.randn((HIDDEN_LAYER_SIZE, VOCAB_SIZE))\n",
    "b2 = torch.randn(VOCAB_SIZE)\n"
   ]
  },
  {
   "cell_type": "code",
   "execution_count": 11,
   "id": "79dd782a",
   "metadata": {},
   "outputs": [
    {
     "data": {
      "text/plain": [
       "torch.Size([228146, 27])"
      ]
     },
     "execution_count": 11,
     "metadata": {},
     "output_type": "execute_result"
    }
   ],
   "source": [
    "logits = h @ W2 + b2\n",
    "logits.shape\n"
   ]
  },
  {
   "cell_type": "code",
   "execution_count": 12,
   "id": "e2c2136f",
   "metadata": {},
   "outputs": [],
   "source": [
    "counts = logits.exp()\n"
   ]
  },
  {
   "cell_type": "code",
   "execution_count": 13,
   "id": "cda2c219",
   "metadata": {},
   "outputs": [
    {
     "data": {
      "text/plain": [
       "torch.Size([228146, 27])"
      ]
     },
     "execution_count": 13,
     "metadata": {},
     "output_type": "execute_result"
    }
   ],
   "source": [
    "prob = counts / counts.sum(1, keepdims=True)\n",
    "prob.shape\n"
   ]
  },
  {
   "cell_type": "code",
   "execution_count": 14,
   "id": "29ff6f95",
   "metadata": {},
   "outputs": [
    {
     "data": {
      "text/plain": [
       "tensor(15.1488)"
      ]
     },
     "execution_count": 14,
     "metadata": {},
     "output_type": "execute_result"
    }
   ],
   "source": [
    "loss = -prob[torch.arange(N_OBS), Y].log().mean()\n",
    "loss\n"
   ]
  },
  {
   "cell_type": "code",
   "execution_count": 15,
   "id": "89d9f4d8",
   "metadata": {},
   "outputs": [],
   "source": [
    "# ------------ now made respectable :) ---------------\n",
    "BLOCK_SIZE = 3\n",
    "N_EMB_DIM = 10\n",
    "HIDDEN_LAYER_SIZE = 200\n",
    "VOCAB_SIZE = len(vocab)\n"
   ]
  },
  {
   "cell_type": "code",
   "execution_count": 16,
   "id": "8cf61c82",
   "metadata": {},
   "outputs": [
    {
     "data": {
      "text/plain": [
       "(torch.Size([182625, 3]), torch.Size([182625]))"
      ]
     },
     "execution_count": 16,
     "metadata": {},
     "output_type": "execute_result"
    }
   ],
   "source": [
    "Xtr.shape, Ytr.shape  # dataset\n"
   ]
  },
  {
   "cell_type": "code",
   "execution_count": null,
   "id": "8c7c5ec3",
   "metadata": {},
   "outputs": [],
   "source": [
    "g = torch.Generator().manual_seed(2147483647)  # for reproducibility\n",
    "C = torch.randn((VOCAB_SIZE, N_EMB_DIM), generator=g)\n",
    "W1 = torch.randn((BLOCK_SIZE * N_EMB_DIM, HIDDEN_LAYER_SIZE), generator=g)\n",
    "b1 = torch.randn(HIDDEN_LAYER_SIZE, generator=g)\n",
    "W2 = torch.randn((HIDDEN_LAYER_SIZE, VOCAB_SIZE), generator=g)\n",
    "b2 = torch.randn(VOCAB_SIZE, generator=g)\n",
    "parameters = [C, W1, b1, W2, b2]\n"
   ]
  },
  {
   "cell_type": "code",
   "execution_count": 18,
   "id": "98ad4042",
   "metadata": {},
   "outputs": [
    {
     "data": {
      "text/plain": [
       "11897"
      ]
     },
     "execution_count": 18,
     "metadata": {},
     "output_type": "execute_result"
    }
   ],
   "source": [
    "sum(p.nelement() for p in parameters)  # number of parameters in total\n"
   ]
  },
  {
   "cell_type": "code",
   "execution_count": 19,
   "id": "13342396",
   "metadata": {},
   "outputs": [],
   "source": [
    "for p in parameters:\n",
    "    p.requires_grad = True\n"
   ]
  },
  {
   "cell_type": "code",
   "execution_count": 20,
   "id": "330b2f57",
   "metadata": {},
   "outputs": [],
   "source": [
    "lre = torch.linspace(-3, 0, 1000)\n",
    "lrs = 10**lre\n"
   ]
  },
  {
   "cell_type": "code",
   "execution_count": 21,
   "id": "9685041f",
   "metadata": {},
   "outputs": [],
   "source": [
    "lri = []\n",
    "lossi = []\n",
    "stepi = []\n",
    "N_ITER = 200000\n",
    "BATCH_SIZE = 32"
   ]
  },
  {
   "cell_type": "code",
   "execution_count": null,
   "id": "8f2bf364",
   "metadata": {},
   "outputs": [],
   "source": [
    "for i in range(N_ITER):\n",
    "    # minibatch construct\n",
    "    ix = torch.randint(0, Xtr.shape[0], (BATCH_SIZE,))\n",
    "\n",
    "    # forward pass\n",
    "    emb = C[Xtr[ix]]  # (BATCH_SIZE, BLOCK_SIZE, N_EMB_DIM)\n",
    "    h = torch.tanh(\n",
    "        emb.view(-1, BLOCK_SIZE * N_EMB_DIM) @ W1 + b1\n",
    "    )  # (BATCH_SIZE, HIDDEN_LAYER_SIZE)\n",
    "    logits = h @ W2 + b2  # (BATCH_SIZE, VOCAB_SIZE)\n",
    "    loss = F.cross_entropy(logits, Ytr[ix])\n",
    "    # print(loss.item())\n",
    "\n",
    "    # backward pass\n",
    "    for p in parameters:\n",
    "        p.grad = None\n",
    "    loss.backward()\n",
    "\n",
    "    # update\n",
    "    # lr = lrs[i]\n",
    "    lr = 0.1 if i < 100000 else 0.01\n",
    "    for p in parameters:\n",
    "        p.data += -lr * p.grad\n",
    "\n",
    "    # track stats\n",
    "    # lri.append(lre[i])\n",
    "    stepi.append(i)\n",
    "    lossi.append(loss.log10().item())\n",
    "\n",
    "# print(loss.item())\n"
   ]
  },
  {
   "cell_type": "code",
   "execution_count": 23,
   "id": "15244287",
   "metadata": {},
   "outputs": [
    {
     "data": {
      "text/plain": [
       "[<matplotlib.lines.Line2D at 0x110575c50>]"
      ]
     },
     "execution_count": 23,
     "metadata": {},
     "output_type": "execute_result"
    },
    {
     "data": {
      "image/png": "[encoded data removed]",
      "text/plain": [
       "<Figure size 640x480 with 1 Axes>"
      ]
     },
     "metadata": {},
     "output_type": "display_data"
    }
   ],
   "source": [
    "plt.plot(stepi, lossi)\n"
   ]
  },
  {
   "cell_type": "code",
   "execution_count": null,
   "id": "c194dcad",
   "metadata": {},
   "outputs": [
    {
     "data": {
      "text/plain": [
       "tensor(2.1291, grad_fn=<NllLossBackward0>)"
      ]
     },
     "execution_count": 24,
     "metadata": {},
     "output_type": "execute_result"
    }
   ],
   "source": [
    "emb = C[Xtr]  # (BATCH_SIZE, BLOCK_SIZE, N_EMB_DIM)\n",
    "h = torch.tanh(\n",
    "    emb.view(-1, BLOCK_SIZE * N_EMB_DIM) @ W1 + b1\n",
    ")  # (BATCH_SIZE, HIDDEN_LAYER_SIZE)\n",
    "logits = h @ W2 + b2  # (BATCH_SIZE, VOCAB_SIZE)\n",
    "loss = F.cross_entropy(logits, Ytr)\n",
    "loss\n"
   ]
  },
  {
   "cell_type": "code",
   "execution_count": null,
   "id": "f25c854a",
   "metadata": {},
   "outputs": [
    {
     "data": {
      "text/plain": [
       "tensor(2.1621, grad_fn=<NllLossBackward0>)"
      ]
     },
     "execution_count": 25,
     "metadata": {},
     "output_type": "execute_result"
    }
   ],
   "source": [
    "emb = C[Xdev]  # (BATCH_SIZE, BLOCK_SIZE, N_EMB_DIM)\n",
    "h = torch.tanh(\n",
    "    emb.view(-1, BLOCK_SIZE * N_EMB_DIM) @ W1 + b1\n",
    ")  # (BATCH_SIZE, HIDDEN_LAYER_SIZE)\n",
    "logits = h @ W2 + b2  # (BATCH_SIZE, VOCAB_SIZE)\n",
    "loss = F.cross_entropy(logits, Ydev)\n",
    "loss\n"
   ]
  },
  {
   "cell_type": "code",
   "execution_count": null,
   "id": "e5787964",
   "metadata": {},
   "outputs": [
    {
     "data": {
      "image/png": "[encoded data removed]",
      "text/plain": [
       "<Figure size 800x800 with 1 Axes>"
      ]
     },
     "metadata": {},
     "output_type": "display_data"
    }
   ],
   "source": [
    "# visualize dimensions 0 and 1 of the embedding matrix C for all characters\n",
    "plt.figure(figsize=(8, 8))\n",
    "plt.scatter(C[:, 0].data, C[:, 1].data, s=200)\n",
    "for i in range(C.shape[0]):\n",
    "    plt.text(\n",
    "        C[i, 0].item(),\n",
    "        C[i, 1].item(),\n",
    "        idx_vocab_lookup[i],\n",
    "        ha=\"center\",\n",
    "        va=\"center\",\n",
    "        color=\"white\",\n",
    "    )\n",
    "plt.grid(\"minor\")\n"
   ]
  },
  {
   "cell_type": "code",
   "execution_count": null,
   "id": "bee88b21",
   "metadata": {},
   "outputs": [],
   "source": [
    "# training split, dev/validation split, test split\n",
    "# 80%, 10%, 10%\n"
   ]
  },
  {
   "cell_type": "code",
   "execution_count": null,
   "id": "91df5662",
   "metadata": {},
   "outputs": [],
   "source": [
    "context = [0] * BLOCK_SIZE\n",
    "C[torch.tensor([context])].shape\n"
   ]
  },
  {
   "cell_type": "code",
   "execution_count": 27,
   "id": "e95ab337",
   "metadata": {},
   "outputs": [
    {
     "name": "stdout",
     "output_type": "stream",
     "text": [
      "carlah.\n",
      "amelle.\n",
      "khyimili.\n",
      "thtyn.\n",
      "kanden.\n",
      "jazonte.\n",
      "delyah.\n",
      "jareei.\n",
      "nellara.\n",
      "chaiir.\n",
      "kaleigh.\n",
      "ham.\n",
      "join.\n",
      "quinn.\n",
      "shon.\n",
      "walianni.\n",
      "watthonderrynix.\n",
      "kaeklinsleen.\n",
      "deco.\n",
      "abette.\n"
     ]
    }
   ],
   "source": [
    "# sample from the model\n",
    "g = torch.Generator().manual_seed(2147483647 + 10)\n",
    "\n",
    "for _ in range(20):\n",
    "    out = []\n",
    "    context = [0] * BLOCK_SIZE  # initialize with all ...\n",
    "    while True:\n",
    "        emb = C[torch.tensor([context])]  # (1,block_size,d)\n",
    "        h = torch.tanh(emb.view(1, -1) @ W1 + b1)\n",
    "        logits = h @ W2 + b2\n",
    "        probs = F.softmax(logits, dim=1)\n",
    "        ix = torch.multinomial(probs, num_samples=1, generator=g).item()\n",
    "        context = context[1:] + [ix]\n",
    "        out.append(ix)\n",
    "        if ix == 0:\n",
    "            break\n",
    "\n",
    "    print(\"\".join(idx_vocab_lookup[i] for i in out))\n"
   ]
  }
 ],
 "metadata": {
  "kernelspec": {
   "display_name": ".venv",
   "language": "python",
   "name": "python3"
  },
  "language_info": {
   "codemirror_mode": {
    "name": "ipython",
    "version": 3
   },
   "file_extension": ".py",
   "mimetype": "text/x-python",
   "name": "python",
   "nbconvert_exporter": "python",
   "pygments_lexer": "ipython3",
   "version": "3.11.11"
  }
 },
 "nbformat": 4,
 "nbformat_minor": 5
}
